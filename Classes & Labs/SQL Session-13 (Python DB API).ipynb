{
 "cells": [
  {
   "cell_type": "markdown",
   "id": "58c740f8",
   "metadata": {},
   "source": [
    "# <p style=\"background-color:#34495E; color:lightgray; font-size:110%; text-align:center; border-radius:20px 20px;width:950px;height:50px;line-height:50px;border-style:round;\">Python DB API</p>"
   ]
  },
  {
   "cell_type": "markdown",
   "id": "51c06575",
   "metadata": {},
   "source": [
    "DB-API is an acronym for DataBase Application Programming Interface and a library that lets Python connect to the database server."
   ]
  },
  {
   "cell_type": "markdown",
   "id": "76f77c32",
   "metadata": {},
   "source": [
    "## PyODBC\n",
    "Pyodbc is a Python DB conformant module for ODBC databases. \n",
    "\n",
    "**ODBC** (Open Database Connectivity) is the primary native data access API for applications written in C and C++ for SQL Server. Other languages that can use ODBC include COBOL, Perl, PHP, and Python. ODBC is widely used in data integration scenarios."
   ]
  },
  {
   "cell_type": "code",
   "execution_count": 1,
   "id": "57d8a3af",
   "metadata": {},
   "outputs": [
    {
     "name": "stdout",
     "output_type": "stream",
     "text": [
      "Requirement already satisfied: pyodbc in c:\\users\\dell\\anaconda3\\lib\\site-packages (4.0.32)\n"
     ]
    }
   ],
   "source": [
    "!pip install pyodbc"
   ]
  },
  {
   "cell_type": "code",
   "execution_count": 2,
   "id": "95dfbbcc",
   "metadata": {},
   "outputs": [],
   "source": [
    "import pyodbc"
   ]
  },
  {
   "cell_type": "code",
   "execution_count": 3,
   "id": "8b7eced0",
   "metadata": {},
   "outputs": [
    {
     "data": {
      "text/plain": [
       "['SQL Server',\n",
       " 'Microsoft Access Driver (*.mdb, *.accdb)',\n",
       " 'Microsoft Excel Driver (*.xls, *.xlsx, *.xlsm, *.xlsb)',\n",
       " 'Microsoft Access Text Driver (*.txt, *.csv)',\n",
       " 'SQL Server Native Client 11.0',\n",
       " 'SQL Server Native Client RDA 11.0',\n",
       " 'ODBC Driver 17 for SQL Server',\n",
       " 'Microsoft Access dBASE Driver (*.dbf, *.ndx, *.mdx)']"
      ]
     },
     "execution_count": 3,
     "metadata": {},
     "output_type": "execute_result"
    }
   ],
   "source": [
    "pyodbc.drivers()"
   ]
  },
  {
   "cell_type": "markdown",
   "id": "f4f515e5",
   "metadata": {},
   "source": [
    "***"
   ]
  },
  {
   "cell_type": "markdown",
   "id": "99973ef8",
   "metadata": {},
   "source": [
    "## SQL SERVER CONNECTION"
   ]
  },
  {
   "cell_type": "markdown",
   "id": "ea4e559a",
   "metadata": {},
   "source": [
    "### SQL Server Authentication"
   ]
  },
  {
   "cell_type": "code",
   "execution_count": 4,
   "id": "45c28171",
   "metadata": {},
   "outputs": [],
   "source": [
    "def create_server_connection(driver, server, database, user, password):\n",
    "    conn = None\n",
    "    try: \n",
    "        conn = pyodbc.connect(DRIVER=driver, SERVER=server, DATABASE=database, UID=user, PWD=password)\n",
    "        print(\"MS SQL Server Database connection successful!\")\n",
    "    except Exception as err:\n",
    "        print(f\"ERROR:\\t'{err}'\")\n",
    "    return conn"
   ]
  },
  {
   "cell_type": "code",
   "execution_count": 5,
   "id": "8f0c729e",
   "metadata": {},
   "outputs": [
    {
     "name": "stdout",
     "output_type": "stream",
     "text": [
      "ERROR:\t'('28000', \"[28000] [Microsoft][ODBC Driver 17 for SQL Server][SQL Server]Login failed for user 'sa'. (18456) (SQLDriverConnect); [28000] [Microsoft][ODBC Driver 17 for SQL Server][SQL Server]Login failed for user 'sa'. (18456)\")'\n"
     ]
    }
   ],
   "source": [
    "driver = '{ODBC Driver 17 for SQL Server}'\n",
    "server = 'localhost'\n",
    "database = 'master'\n",
    "user = 'sa'          # 'sa' means system administrator\n",
    "password = '-----'   # your password\n",
    "\n",
    "conn = create_server_connection(driver, server, database, user, password)"
   ]
  },
  {
   "cell_type": "code",
   "execution_count": 6,
   "id": "340377e2",
   "metadata": {},
   "outputs": [],
   "source": [
    " # conn.close()  # to close the sql server connection"
   ]
  },
  {
   "cell_type": "markdown",
   "id": "416f58f6",
   "metadata": {},
   "source": [
    "### Windows Authentication"
   ]
  },
  {
   "cell_type": "code",
   "execution_count": 7,
   "id": "9f3913be",
   "metadata": {},
   "outputs": [],
   "source": [
    "conn_string = \"\"\"driver={ODBC Driver 17 for SQL Server}; \n",
    "                 server=localhost; \n",
    "                 database=master; \n",
    "                 TRUSTED_CONNECTION=yes;\"\"\""
   ]
  },
  {
   "cell_type": "code",
   "execution_count": 8,
   "id": "2f77882a",
   "metadata": {},
   "outputs": [],
   "source": [
    "conn = pyodbc.connect(conn_string);"
   ]
  },
  {
   "cell_type": "code",
   "execution_count": 9,
   "id": "4b04711f",
   "metadata": {},
   "outputs": [
    {
     "data": {
      "text/plain": [
       "<pyodbc.Connection at 0x1f062ece370>"
      ]
     },
     "execution_count": 9,
     "metadata": {},
     "output_type": "execute_result"
    }
   ],
   "source": [
    "conn"
   ]
  },
  {
   "cell_type": "markdown",
   "id": "30ed2fd4",
   "metadata": {},
   "source": [
    "***"
   ]
  },
  {
   "cell_type": "markdown",
   "id": "fd1c45ab",
   "metadata": {},
   "source": [
    "## Connection Objects"
   ]
  },
  {
   "cell_type": "markdown",
   "id": "20161aad",
   "metadata": {},
   "source": [
    "**cursor :** to access the data in the database\n",
    "    \n",
    "**commit :** This method commits the current transaction. It allows the transactions made here to be reflected (commit) to the sql server. If you do not commit, they will not be reflected.\n",
    "\n",
    "**connection.close :** to close the sql server connection"
   ]
  },
  {
   "cell_type": "markdown",
   "id": "63f72895",
   "metadata": {},
   "source": [
    "### Cursor process"
   ]
  },
  {
   "cell_type": "code",
   "execution_count": 10,
   "id": "22e769c7",
   "metadata": {},
   "outputs": [],
   "source": [
    "crs = conn.cursor()"
   ]
  },
  {
   "cell_type": "code",
   "execution_count": 11,
   "id": "ddff1024",
   "metadata": {},
   "outputs": [],
   "source": [
    "conn.autocommit = True "
   ]
  },
  {
   "cell_type": "code",
   "execution_count": 12,
   "id": "1b4912f4",
   "metadata": {},
   "outputs": [],
   "source": [
    "#conn.commit() -- for desired transactions"
   ]
  },
  {
   "cell_type": "markdown",
   "id": "57f1e7e2",
   "metadata": {},
   "source": [
    "***"
   ]
  },
  {
   "cell_type": "markdown",
   "id": "5d57fba2",
   "metadata": {},
   "source": [
    "## Cursor Objects"
   ]
  },
  {
   "cell_type": "markdown",
   "id": "4d69d239",
   "metadata": {},
   "source": [
    "### Create Database"
   ]
  },
  {
   "cell_type": "code",
   "execution_count": 13,
   "id": "717ae285",
   "metadata": {},
   "outputs": [
    {
     "ename": "ProgrammingError",
     "evalue": "('42000', \"[42000] [Microsoft][ODBC Driver 17 for SQL Server][SQL Server]Database 'TestA' already exists. Choose a different database name. (1801) (SQLExecDirectW)\")",
     "output_type": "error",
     "traceback": [
      "\u001b[1;31m---------------------------------------------------------------------------\u001b[0m",
      "\u001b[1;31mProgrammingError\u001b[0m                          Traceback (most recent call last)",
      "Input \u001b[1;32mIn [13]\u001b[0m, in \u001b[0;36m<cell line: 1>\u001b[1;34m()\u001b[0m\n\u001b[1;32m----> 1\u001b[0m \u001b[43mcrs\u001b[49m\u001b[38;5;241;43m.\u001b[39;49m\u001b[43mexecute\u001b[49m\u001b[43m(\u001b[49m\u001b[38;5;124;43m'\u001b[39;49m\u001b[38;5;124;43mCREATE DATABASE TestA\u001b[39;49m\u001b[38;5;124;43m'\u001b[39;49m\u001b[43m)\u001b[49m\n",
      "\u001b[1;31mProgrammingError\u001b[0m: ('42000', \"[42000] [Microsoft][ODBC Driver 17 for SQL Server][SQL Server]Database 'TestA' already exists. Choose a different database name. (1801) (SQLExecDirectW)\")"
     ]
    }
   ],
   "source": [
    "crs.execute('CREATE DATABASE TestA')"
   ]
  },
  {
   "cell_type": "code",
   "execution_count": null,
   "id": "9de4678b",
   "metadata": {},
   "outputs": [],
   "source": [
    "def create_database(conn, create_db_query):   \n",
    "    crs = conn.cursor() \n",
    "    try:\n",
    "        crs.execute(create_db_query)  #prepares and executes SQL\n",
    "        print(\"Database is Created Successfully\")\n",
    "    except Exception as err:\n",
    "            print(f\"ERROR:\\t'{err}'\")"
   ]
  },
  {
   "cell_type": "code",
   "execution_count": null,
   "id": "99b2b837",
   "metadata": {},
   "outputs": [],
   "source": [
    "create_db_query = 'CREATE DATABASE TestB'"
   ]
  },
  {
   "cell_type": "code",
   "execution_count": null,
   "id": "553e6cc6",
   "metadata": {},
   "outputs": [],
   "source": [
    "create_database(conn, create_db_query)"
   ]
  },
  {
   "cell_type": "code",
   "execution_count": null,
   "id": "207adfd3",
   "metadata": {},
   "outputs": [],
   "source": [
    "crs.execute('DROP DATABASE TestB')"
   ]
  },
  {
   "cell_type": "markdown",
   "id": "431f092b",
   "metadata": {},
   "source": [
    "### Executing a query"
   ]
  },
  {
   "cell_type": "markdown",
   "id": "8b24a86e",
   "metadata": {},
   "source": [
    "All SQL statements are executed using the Cursor execute() function. "
   ]
  },
  {
   "cell_type": "code",
   "execution_count": null,
   "id": "9540b7da",
   "metadata": {},
   "outputs": [],
   "source": [
    "query = 'USE TestA'"
   ]
  },
  {
   "cell_type": "code",
   "execution_count": null,
   "id": "69265792",
   "metadata": {},
   "outputs": [],
   "source": [
    "crs.execute(query)"
   ]
  },
  {
   "cell_type": "code",
   "execution_count": null,
   "id": "25068681",
   "metadata": {},
   "outputs": [],
   "source": [
    "def execute_query(conn, query):\n",
    "    crs = conn.cursor()\n",
    "    try:\n",
    "        crs.execute(query)\n",
    "        conn.commit()\n",
    "        print(\"Query Succeessful!\")\n",
    "    except Exception as err:\n",
    "        print(f\"ERROR:\\t'{err}'\")"
   ]
  },
  {
   "cell_type": "code",
   "execution_count": null,
   "id": "b1e8c21f",
   "metadata": {},
   "outputs": [],
   "source": [
    "execute_query(conn,query)"
   ]
  },
  {
   "cell_type": "markdown",
   "id": "82f3ec31",
   "metadata": {},
   "source": [
    "### Create Table"
   ]
  },
  {
   "cell_type": "code",
   "execution_count": null,
   "id": "9ce3c957",
   "metadata": {},
   "outputs": [],
   "source": [
    "query = \"\"\"CREATE TABLE TestTable (\n",
    "                ID INT IDENTITY (1,1) NOT NULL, \n",
    "                FirstName VARCHAR(255) NOT NULL,\n",
    "                LastName VARCHAR(255) NOT NULL,\n",
    "                PRIMARY KEY(ID))\"\"\""
   ]
  },
  {
   "cell_type": "code",
   "execution_count": null,
   "id": "35c19bd2",
   "metadata": {},
   "outputs": [],
   "source": [
    "execute_query(conn, query)"
   ]
  },
  {
   "cell_type": "markdown",
   "id": "074c06a8",
   "metadata": {},
   "source": [
    "### Insert Values"
   ]
  },
  {
   "cell_type": "code",
   "execution_count": null,
   "id": "d751cb5d",
   "metadata": {},
   "outputs": [],
   "source": [
    "crs.execute(\"INSERT TestTable (FirstName, LastName) VALUES ('Bob', 'Marley')\")"
   ]
  },
  {
   "cell_type": "code",
   "execution_count": null,
   "id": "0c30911b",
   "metadata": {},
   "outputs": [],
   "source": [
    "# parameterized\n",
    "crs.execute(\"INSERT TestTable (FirstName, LastName) VALUES (?,?)\", 'Bruce', 'Lee')\n",
    "crs.execute(\"INSERT TestTable (FirstName, LastName) VALUES (?,?)\", ('Jerry', 'Blue'))\n",
    "crs.execute(\"INSERT TestTable (FirstName, LastName) VALUES (?,?)\", ('Katie', 'Holmes'))"
   ]
  },
  {
   "cell_type": "code",
   "execution_count": null,
   "id": "896f928e",
   "metadata": {},
   "outputs": [],
   "source": [
    "crs.execute(\"INSERT TestTable (FirstName, LastName) VALUES (?,?)\", 'Tom', 'Cat')\n",
    "crs.execute(\"INSERT TestTable (FirstName, LastName) VALUES (?,?)\", 'Jerry', 'Mouse')\n",
    "crs.execute(\"INSERT TestTable (FirstName, LastName) VALUES (?,?)\", 'Owen', 'William')\n",
    "crs.execute(\"INSERT TestTable (FirstName, LastName) VALUES (?,?)\", 'Stefan', 'Müller')"
   ]
  },
  {
   "cell_type": "code",
   "execution_count": null,
   "id": "8a984dc1",
   "metadata": {},
   "outputs": [],
   "source": [
    "#crs.execute(\"SELECT * FROM TestTable\").fetchall()"
   ]
  },
  {
   "cell_type": "markdown",
   "id": "fb8ff9b1",
   "metadata": {},
   "source": [
    "### Updating and Deleting with rowcount"
   ]
  },
  {
   "cell_type": "code",
   "execution_count": null,
   "id": "31a2766e",
   "metadata": {},
   "outputs": [],
   "source": [
    "crs.execute(\"DELETE FROM TestTable WHERE FirstName = 'Katie'\")\n",
    "crs.rowcount"
   ]
  },
  {
   "cell_type": "code",
   "execution_count": null,
   "id": "dca0bd57",
   "metadata": {},
   "outputs": [],
   "source": [
    "deleted = crs.execute(\"DELETE FROM TestTable WHERE FirstName = ?\", 'Jerry').rowcount\n",
    "print(deleted, 'row(s) deleted')"
   ]
  },
  {
   "cell_type": "code",
   "execution_count": null,
   "id": "66e0e29a",
   "metadata": {},
   "outputs": [],
   "source": [
    "crs.execute(\"UPDATE TestTable SET FirstName='Natalie', LastName='Portman' WHERE ID=8\")\n",
    "print(crs.rowcount, 'row(s) updated')"
   ]
  },
  {
   "cell_type": "code",
   "execution_count": null,
   "id": "5dbdc0ce",
   "metadata": {},
   "outputs": [],
   "source": [
    "#crs.execute(\"SELECT * FROM TestTable\").fetchall()"
   ]
  },
  {
   "cell_type": "markdown",
   "id": "89685046",
   "metadata": {},
   "source": [
    "***"
   ]
  },
  {
   "cell_type": "markdown",
   "id": "5146b2e0",
   "metadata": {},
   "source": [
    "## Cursor Functions -- Reading Data"
   ]
  },
  {
   "cell_type": "markdown",
   "id": "50fd063b",
   "metadata": {},
   "source": [
    "All SQL statements are executed using the Cursor execute() function. \n",
    "\n",
    "If the statement returns rows, such as a select statement, you can retrieve them using the Cursor fetch functions - fetchone(), fetchall(), fetchmany(). \n",
    "\n",
    "If there are no rows, fetchone() will return None, whereas fetchall() and fetchmany() will both return empty lists."
   ]
  },
  {
   "cell_type": "markdown",
   "id": "f3b5fe6d",
   "metadata": {},
   "source": [
    "#### Fetchone"
   ]
  },
  {
   "cell_type": "code",
   "execution_count": null,
   "id": "a9af6661",
   "metadata": {},
   "outputs": [],
   "source": [
    "crs.execute('SELECT FirstName, LastName FROM TestTable')"
   ]
  },
  {
   "cell_type": "code",
   "execution_count": null,
   "id": "70c497ac",
   "metadata": {},
   "outputs": [],
   "source": [
    "row = crs.fetchone()  # it returns the first record of the table\n",
    "row"
   ]
  },
  {
   "cell_type": "code",
   "execution_count": null,
   "id": "d7089483",
   "metadata": {},
   "outputs": [],
   "source": [
    "crs.fetchone()  # it returns the next record of the table"
   ]
  },
  {
   "cell_type": "markdown",
   "id": "4beff54d",
   "metadata": {},
   "source": [
    "The `fetchone()` function returns None when all rows have been retrieved."
   ]
  },
  {
   "cell_type": "code",
   "execution_count": null,
   "id": "71b5b756",
   "metadata": {},
   "outputs": [],
   "source": [
    "crs.execute('select FirstName, LastName from TestTable')\n",
    "row = crs.fetchone()\n",
    "\n",
    "print('LastName:', row[1])         # access by column index (zero-based)\n",
    "print('LastName:', row.LastName)   # access by name"
   ]
  },
  {
   "cell_type": "code",
   "execution_count": null,
   "id": "19cd3372",
   "metadata": {},
   "outputs": [],
   "source": [
    "crs.execute('select FirstName, LastName from TestTable')\n",
    "while True:\n",
    "    row = crs.fetchone()\n",
    "    if not row:\n",
    "        break\n",
    "    print('FirstName:', row.FirstName)"
   ]
  },
  {
   "cell_type": "markdown",
   "id": "da1e6ba9",
   "metadata": {},
   "source": [
    "#### Fetchmany"
   ]
  },
  {
   "cell_type": "code",
   "execution_count": null,
   "id": "61dfe60c",
   "metadata": {},
   "outputs": [],
   "source": [
    "crs.execute(\"\"\"SELECT ID, FirstName, LastName \n",
    "                FROM TestTable\"\"\")\n",
    "rows = crs.fetchmany(3)\n",
    "rows"
   ]
  },
  {
   "cell_type": "code",
   "execution_count": null,
   "id": "467e4de4",
   "metadata": {},
   "outputs": [],
   "source": [
    "rows[0]"
   ]
  },
  {
   "cell_type": "markdown",
   "id": "16593399",
   "metadata": {},
   "source": [
    "#### Fetchall"
   ]
  },
  {
   "cell_type": "code",
   "execution_count": null,
   "id": "87f97dec",
   "metadata": {},
   "outputs": [],
   "source": [
    "crs.execute('SELECT ID, FirstName, LastName FROM TestTable')\n",
    "rows = crs.fetchall()\n",
    "rows "
   ]
  },
  {
   "cell_type": "code",
   "execution_count": null,
   "id": "8e0b573c",
   "metadata": {},
   "outputs": [],
   "source": [
    "for row in rows:\n",
    "    print(row.ID, row.FirstName, row.LastName)"
   ]
  },
  {
   "cell_type": "markdown",
   "id": "949490d8",
   "metadata": {},
   "source": [
    "***"
   ]
  },
  {
   "cell_type": "markdown",
   "id": "0c744d98",
   "metadata": {},
   "source": [
    "## Connecting Different Databases"
   ]
  },
  {
   "cell_type": "code",
   "execution_count": null,
   "id": "849a1770",
   "metadata": {},
   "outputs": [],
   "source": [
    "crs.execute('USE SampleRetail')"
   ]
  },
  {
   "cell_type": "code",
   "execution_count": null,
   "id": "12d2beb6",
   "metadata": {},
   "outputs": [],
   "source": [
    "crs.execute(\"SELECT * FROM product.category\").fetchall()"
   ]
  },
  {
   "cell_type": "code",
   "execution_count": null,
   "id": "0016b09a",
   "metadata": {},
   "outputs": [],
   "source": [
    "query = \"\"\"SELECT  \n",
    "                RIGHT(email, LEN(email)-CHARINDEX('@', email)) AS DomainType,\n",
    "                COUNT(RIGHT(email, LEN(email)-CHARINDEX('@', email))) AS NumofDomains\n",
    "           FROM \n",
    "                sale.customer\n",
    "           GROUP BY\n",
    "                RIGHT(email, LEN(email)-CHARINDEX('@', email))\n",
    "           ORDER BY\n",
    "                NumofDomains DESC;\"\"\""
   ]
  },
  {
   "cell_type": "code",
   "execution_count": null,
   "id": "5879dad5",
   "metadata": {},
   "outputs": [],
   "source": [
    "crs.execute(query).fetchall()"
   ]
  },
  {
   "cell_type": "markdown",
   "id": "f298bd3e",
   "metadata": {},
   "source": [
    "***"
   ]
  },
  {
   "cell_type": "markdown",
   "id": "2625ba67",
   "metadata": {},
   "source": [
    "## Pandas Methods"
   ]
  },
  {
   "cell_type": "markdown",
   "id": "487e3ee1",
   "metadata": {},
   "source": [
    "### Create Dataframe"
   ]
  },
  {
   "cell_type": "code",
   "execution_count": null,
   "id": "af2209f0",
   "metadata": {},
   "outputs": [],
   "source": [
    "import pandas as pd\n",
    "\n",
    "import warnings\n",
    "warnings.filterwarnings('ignore')"
   ]
  },
  {
   "cell_type": "code",
   "execution_count": null,
   "id": "b4af22dd",
   "metadata": {},
   "outputs": [],
   "source": [
    "query = 'USE TestA'\n",
    "execute_query(conn,query)"
   ]
  },
  {
   "cell_type": "code",
   "execution_count": null,
   "id": "bda7595a",
   "metadata": {},
   "outputs": [],
   "source": [
    "crs.execute('SELECT * FROM TestTable')\n",
    "results = crs.fetchall()\n",
    "results "
   ]
  },
  {
   "cell_type": "code",
   "execution_count": null,
   "id": "274548d5",
   "metadata": {},
   "outputs": [],
   "source": [
    "df = pd.DataFrame(results)"
   ]
  },
  {
   "cell_type": "code",
   "execution_count": null,
   "id": "124f82cc",
   "metadata": {},
   "outputs": [],
   "source": [
    "df"
   ]
  },
  {
   "cell_type": "code",
   "execution_count": null,
   "id": "d9560699",
   "metadata": {},
   "outputs": [],
   "source": [
    "from_db = []\n",
    "\n",
    "for result in results:\n",
    "    result = list(result)\n",
    "    from_db.append(result)"
   ]
  },
  {
   "cell_type": "code",
   "execution_count": null,
   "id": "2f2c2ce9",
   "metadata": {},
   "outputs": [],
   "source": [
    "from_db"
   ]
  },
  {
   "cell_type": "code",
   "execution_count": null,
   "id": "95e0b95d",
   "metadata": {},
   "outputs": [],
   "source": [
    "cols = ['ID','FirstName','LastName']\n",
    "df = pd.DataFrame(from_db, columns = cols)\n",
    "df"
   ]
  },
  {
   "cell_type": "markdown",
   "id": "c2a2ae54",
   "metadata": {},
   "source": [
    "***"
   ]
  },
  {
   "cell_type": "code",
   "execution_count": null,
   "id": "759383cb",
   "metadata": {},
   "outputs": [],
   "source": [
    "query = 'USE SampleRetail'\n",
    "execute_query(conn,query)"
   ]
  },
  {
   "cell_type": "code",
   "execution_count": null,
   "id": "972569f1",
   "metadata": {},
   "outputs": [],
   "source": [
    "df_prod = pd.read_sql(\"SELECT * FROM product.product\", con=conn)\n",
    "df_prod.head(10)"
   ]
  },
  {
   "cell_type": "code",
   "execution_count": null,
   "id": "cba6ca20",
   "metadata": {},
   "outputs": [],
   "source": [
    "query = \"\"\"\n",
    "        CREATE TABLE product_new1 (\n",
    "            product_id int,\n",
    "            product_name varchar(255),\n",
    "            brand_id int,\n",
    "            category_id int ,\n",
    "            model_year int,\n",
    "            list_price decimal(10,2)\n",
    "        )\n",
    "        \"\"\"\n",
    "execute_query(conn, query)"
   ]
  },
  {
   "cell_type": "code",
   "execution_count": null,
   "id": "5e210cb3",
   "metadata": {},
   "outputs": [],
   "source": [
    "df_prod.to_dict('records')"
   ]
  },
  {
   "cell_type": "code",
   "execution_count": null,
   "id": "8051fcde",
   "metadata": {},
   "outputs": [],
   "source": [
    "records = df_prod.to_dict('records')"
   ]
  },
  {
   "cell_type": "code",
   "execution_count": null,
   "id": "a53ce4f3",
   "metadata": {},
   "outputs": [],
   "source": [
    "sql = 'INSERT product_new1 VALUES(?,?,?,?,?,?)'"
   ]
  },
  {
   "cell_type": "code",
   "execution_count": null,
   "id": "b4613021",
   "metadata": {},
   "outputs": [],
   "source": [
    "for k,v in enumerate(records, start=1):\n",
    "    print(k,v)"
   ]
  },
  {
   "cell_type": "code",
   "execution_count": null,
   "id": "8ad5ea81",
   "metadata": {},
   "outputs": [],
   "source": [
    "for k,v in enumerate(records):\n",
    "    print(v['product_name'])"
   ]
  },
  {
   "cell_type": "code",
   "execution_count": null,
   "id": "04143fad",
   "metadata": {},
   "outputs": [],
   "source": [
    "for k,v in enumerate(records):\n",
    "    crs.execute(sql, (v['product_id'], v['product_name'], v['brand_id'], v['category_id'], \n",
    "                      v['model_year'], v['list_price']))"
   ]
  },
  {
   "cell_type": "code",
   "execution_count": null,
   "id": "c0f6dc85",
   "metadata": {},
   "outputs": [],
   "source": [
    "crs.execute(\"SELECT * FROM product_new1\").fetchall()"
   ]
  },
  {
   "cell_type": "code",
   "execution_count": null,
   "id": "6dfe4d70",
   "metadata": {},
   "outputs": [],
   "source": [
    "conn.close()"
   ]
  },
  {
   "cell_type": "code",
   "execution_count": null,
   "id": "dfc95bf6",
   "metadata": {},
   "outputs": [],
   "source": []
  }
 ],
 "metadata": {
  "kernelspec": {
   "display_name": "Python 3 (ipykernel)",
   "language": "python",
   "name": "python3"
  },
  "language_info": {
   "codemirror_mode": {
    "name": "ipython",
    "version": 3
   },
   "file_extension": ".py",
   "mimetype": "text/x-python",
   "name": "python",
   "nbconvert_exporter": "python",
   "pygments_lexer": "ipython3",
   "version": "3.9.12"
  },
  "varInspector": {
   "cols": {
    "lenName": 16,
    "lenType": 16,
    "lenVar": 40
   },
   "kernels_config": {
    "python": {
     "delete_cmd_postfix": "",
     "delete_cmd_prefix": "del ",
     "library": "var_list.py",
     "varRefreshCmd": "print(var_dic_list())"
    },
    "r": {
     "delete_cmd_postfix": ") ",
     "delete_cmd_prefix": "rm(",
     "library": "var_list.r",
     "varRefreshCmd": "cat(var_dic_list()) "
    }
   },
   "types_to_exclude": [
    "module",
    "function",
    "builtin_function_or_method",
    "instance",
    "_Feature"
   ],
   "window_display": false
  }
 },
 "nbformat": 4,
 "nbformat_minor": 5
}
